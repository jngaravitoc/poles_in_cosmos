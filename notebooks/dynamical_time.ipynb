{
 "cells": [
  {
   "cell_type": "code",
   "execution_count": 26,
   "id": "c6b3de1d",
   "metadata": {},
   "outputs": [
    {
     "name": "stdout",
     "output_type": "stream",
     "text": [
      "%pylab is deprecated, use %matplotlib inline and import the required libraries.\n",
      "Populating the interactive namespace from numpy and matplotlib\n"
     ]
    }
   ],
   "source": [
    "%pylab inline\n",
    "plt.style.use(\"/mnt/home/nico/matplotlib.mplstyle\")\n",
    "\n",
    "\n",
    "import astropy.units as u\n",
    "import numpy as np\n",
    "from astropy import constants\n",
    "# Gala\n",
    "import gala.potential as gp\n",
    "from gala.units import galactic"
   ]
  },
  {
   "cell_type": "code",
   "execution_count": 3,
   "id": "dec7c7ff",
   "metadata": {},
   "outputs": [],
   "source": [
    "def get_potential(log_M_h, log_r_s):\n",
    "    mw_potential = gp.CCompositePotential()\n",
    "    mw_potential['bulge'] = gp.HernquistPotential(m=5E9, c=1., units=galactic)\n",
    "    mw_potential['disk'] = gp.MiyamotoNagaiPotential(m=6.8E10*u.Msun, a=3*u.kpc, b=280*u.pc,\n",
    "                                                     units=galactic)\n",
    "\n",
    "    mw_potential['halo'] = gp.NFWPotential(m=np.exp(log_M_h), r_s=np.exp(log_r_s), units=galactic)\n",
    "\n",
    "    return mw_potential"
   ]
  },
  {
   "cell_type": "code",
   "execution_count": 41,
   "id": "813c84db",
   "metadata": {},
   "outputs": [],
   "source": [
    "halo1 = get_potential(np.log(1.5E12), np.log(15))\n",
    "halo2 = get_potential(np.log(1E12), np.log(15))\n",
    "halo3 = get_potential(np.log(2E12), np.log(15))"
   ]
  },
  {
   "cell_type": "code",
   "execution_count": 37,
   "id": "4bbdda9b",
   "metadata": {},
   "outputs": [],
   "source": [
    "G = constants.G"
   ]
  },
  {
   "cell_type": "code",
   "execution_count": 38,
   "id": "98225473",
   "metadata": {},
   "outputs": [
    {
     "data": {
      "text/latex": [
       "$[2.8922878 \\times 10^{9}] \\; \\mathrm{\\frac{M_{\\odot}}{kpc^{3}}}$"
      ],
      "text/plain": [
       "<Quantity [2.89228781e+09] solMass / kpc3>"
      ]
     },
     "execution_count": 38,
     "metadata": {},
     "output_type": "execute_result"
    }
   ],
   "source": [
    "halo1.density([1, 0, 0])"
   ]
  },
  {
   "cell_type": "code",
   "execution_count": 43,
   "id": "a97d44b2",
   "metadata": {},
   "outputs": [],
   "source": [
    "tdyn1 = np.zeros(100)\n",
    "tdyn2 = np.zeros(100)\n",
    "tdyn3 = np.zeros(100)\n",
    "\n",
    "r = np.linspace(0.1, 300, 100)\n",
    "for i in range(len(r)):\n",
    "    t1 = 1 / np.sqrt(halo1.density([r[i], 0, 0]*u.kpc) * G)\n",
    "    t2 = 1 / np.sqrt(halo2.density([r[i], 0, 0]*u.kpc) * G)\n",
    "    t3 = 1 / np.sqrt(halo3.density([r[i], 0, 0]*u.kpc) * G)\n",
    "\n",
    "    tdyn1[i] = t1.to(u.Gyr).value\n",
    "    tdyn2[i] = t2.to(u.Gyr).value\n",
    "    tdyn3[i] = t3.to(u.Gyr).value\n"
   ]
  },
  {
   "cell_type": "code",
   "execution_count": 58,
   "id": "f0a28cca",
   "metadata": {},
   "outputs": [],
   "source": [
    "dth_m12b = 1.5\n",
    "\n",
    "dth_m12c = 0.3\n",
    "\n",
    "dth_m12f1 = 0.3\n",
    "dth_m12f2 = 0.6\n",
    "\n",
    "dth_m12i = 2\n",
    "\n",
    "dth_m12m = 1.8\n",
    "\n",
    "dth_m12r1 = 2\n",
    "dth_m12r2 = 0.5\n",
    "\n",
    "dth_m12w1 = 0.8\n",
    "dth_m12w2 = 3.8"
   ]
  },
  {
   "cell_type": "code",
   "execution_count": 64,
   "id": "2d1db63c",
   "metadata": {},
   "outputs": [
    {
     "data": {
      "image/png": "[encoded data removed]",
      "text/plain": [
       "<Figure size 432x302.4 with 1 Axes>"
      ]
     },
     "metadata": {
      "needs_background": "light"
     },
     "output_type": "display_data"
    }
   ],
   "source": [
    "#plt.plot(r, tdyn1)\n",
    "\n",
    "plt.fill_between(r, tdyn2, tdyn3, color='C0', alpha=0.4)\n",
    "text(0, 6, 'Adiabatic', fontsize=15)\n",
    "text(200, 1, 'Non-adiabatic', fontsize=15)\n",
    "\n",
    "#plt.axhline(dth_m12b, lw=1, c='k', alpha=0.7, ls='--')\n",
    "#plt.axhline(dth_m12c, lw=1, c='k', alpha=0.7, ls='--')\n",
    "#plt.axhline(dth_m12f1, lw=1, c='k', alpha=0.7, ls='--')\n",
    "#plt.axhline(dth_m12f2, lw=1, c='k', alpha=0.7, ls='--')\n",
    "#plt.axhline(dth_m12m, lw=1, c='k', alpha=0.7, ls='--')\n",
    "#plt.axhline(dth_m12i, lw=1, c='k', alpha=0.7, ls='--')\n",
    "#plt.axhline(dth_m12r1, lw=1, c='k', alpha=0.7, ls='--')\n",
    "#plt.axhline(dth_m12r2, lw=1, c='k', alpha=0.7, ls='--')\n",
    "#plt.axhline(dth_m12w1, lw=1, c='k', alpha=0.7, ls='--')\n",
    "#plt.axhline(dth_m12w2, lw=1, c='k', alpha=0.7, ls='--')\n",
    "\n",
    "xlabel(r'$r \\rm{[kpc]}$')\n",
    "ylabel(r'$t_{dyn} \\rm{[Gyr]}$')\n",
    "\n",
    "plt.savefig('Dynamical_time_MW_halos.png', bbox_inches='tight')\n",
    "plt.savefig('Dynamical_time_MW_halos.pdf', bbox_inches='tight')"
   ]
  }
 ],
 "metadata": {
  "kernelspec": {
   "display_name": "Python 3 (ipykernel)",
   "language": "python",
   "name": "python3"
  },
  "language_info": {
   "codemirror_mode": {
    "name": "ipython",
    "version": 3
   },
   "file_extension": ".py",
   "mimetype": "text/x-python",
   "name": "python",
   "nbconvert_exporter": "python",
   "pygments_lexer": "ipython3",
   "version": "3.8.12"
  }
 },
 "nbformat": 4,
 "nbformat_minor": 5
}
