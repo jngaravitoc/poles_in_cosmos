{
 "cells": [
  {
   "cell_type": "code",
   "execution_count": 18,
   "id": "be3cfdbe",
   "metadata": {},
   "outputs": [],
   "source": [
    "import sys\n",
    "sys.path.append('mnt/sw/nix/store/i4qqrrhx6cjsr6r2vl06h9fwbzc9qs8p-texlive-20210325/bin/x86_64-linux/')\n",
    "\n",
    "import numpy as np\n",
    "from numpy import linalg as la\n",
    "from scipy.linalg import norm\n",
    "\n",
    "import matplotlib\n",
    "import matplotlib.pyplot as plt\n",
    "plt.style.use('~/matplotlib.mplstyle')\n",
    "\n",
    "from astropy import units as u\n",
    "#import pynbody\n",
    "#import healpy as hp\n",
    "#from healpy.newvisufunc import projview, newprojplot\n",
    "\n",
    "sys.path.append(\"../scripts/src/\")\n",
    "sys.path.append(\"/mnt/home/ecunningham/python/\")\n",
    "import halo_analysis as halo\n",
    "\n",
    "#import nba\n",
    "\n",
    "#import io_gizmo_pynbody as ga\n",
    "#import halo_analysis as halo\n",
    "\n",
    "# \n",
    "#import pynbody_routines as pr \n",
    "#import io_gizmo_pynbody as fa\n",
    "#import plotting as pl\n",
    "\n"
   ]
  },
  {
   "cell_type": "code",
   "execution_count": 4,
   "id": "4018dd3b",
   "metadata": {},
   "outputs": [],
   "source": [
    "def return_tracked_pos(halo_tree, tr_ind_at_init, pynbody_halo=False, nsnaps=300):\n",
    "    # Adapted from Arpit's function\n",
    "    h_index = tr_ind_at_init\n",
    "    tree_ind = []\n",
    "\n",
    "    for _ in range(nsnaps):\n",
    "        tree_ind.append(h_index)\n",
    "        h_index = halo_tree['descendant.index'][h_index]\n",
    "    tree_ind = np.array(tree_ind)\n",
    "    position = halo_tree['host.distance'][tree_ind]\n",
    "    nsnaps = halo_tree['snapshot'][tree_ind]\n",
    "    mass = halo_tree['mass'][tree_ind]\n",
    "    velocity = halo_tree['host.velocity'][tree_ind]\n",
    "    #vel_rad = halt['host.velocity.rad'][tree_ind]\n",
    "    #vel_tan = halt['host.velocity.tan'][tree_ind]\n",
    "    if pynbody_halo == True:\n",
    "        sat = {'position': position,\n",
    "             'mass': mass,\n",
    "             'velocity': velocity,\n",
    "          }\n",
    "        return pr.pynbody_satellite(sat)\n",
    "\n",
    "    elif pynbody_halo == False:\n",
    "\n",
    "        return {'position': position,\n",
    "             'snaps' : nsnaps,\n",
    "             'mass' : mass,\n",
    "             'velocity' : velocity,\n",
    "                }\n"
   ]
  },
  {
   "cell_type": "code",
   "execution_count": 113,
   "id": "53b7bf8f",
   "metadata": {},
   "outputs": [],
   "source": [
    "sim = 'm12c'\n",
    "sim_directory = \"/mnt/ceph/users/firesims/fire2/metaldiff/{}_res7100/\".format(sim)\n",
    "\n",
    "#sat_path = '/mnt/home/ecunningham/ceph/latte/{}_res7100/massive_stream/dm_inds.npy'.format(sim)\n",
    "#subs_path = '/mnt/home/nico/ceph/FIRE/{}_385_unbound_dark_indices.npy'.format(sim)\n",
    "#subs_ids = np.load(subs_path)\n",
    "#stars_path = '/mnt/home/ecunningham/ceph/latte/{}_res7100/massive_stream/new_z0_inds.npy'.format(sim)\n",
    "#stars_ids = np.load(stars_path)\n",
    "smax = 300 # snapshot at peak mass\n",
    "sat_index_peak_mass = -2\n",
    "nsnaps = 600-smax+1\n",
    "sat_ids = np.load(sat_path)"
   ]
  },
  {
   "cell_type": "code",
   "execution_count": 114,
   "id": "c9a19573",
   "metadata": {},
   "outputs": [
    {
     "name": "stdout",
     "output_type": "stream",
     "text": [
      "\n",
      "# in utilities.simulation.Snapshot():\n",
      "* reading:  mnt/ceph/users/firesims/fire2/metaldiff/m12b_res7100/snapshot_times.txt\n",
      "\n",
      "* read 19882039 halos from:  mnt/ceph/users/firesims/fire2/metaldiff/m12b_res7100/halo/rockstar_dm/catalog_hdf5/tree.hdf5\n",
      "\n"
     ]
    }
   ],
   "source": [
    "halt = halo.io.IO.read_tree(simulation_directory=sim_directory)"
   ]
  },
  {
   "cell_type": "code",
   "execution_count": 141,
   "id": "3bc2f109",
   "metadata": {},
   "outputs": [],
   "source": [
    "def get_catids_sat_subhalos(smax, sipm):\n",
    "    \"\"\"\n",
    "    sipm : satellite index peak mass\n",
    "    \"\"\"\n",
    "    \n",
    "    halt = halo.io.IO.read_tree(simulation_directory=sim_directory)\n",
    "    snap_peak_mass = np.where(halt['snapshot'] == smax)[0]\n",
    "    # Find satellite at snap of max mass given its sat_index_peak_mass\n",
    "    sat_id_peak_mass = np.argsort(halt['mass'][snap_peak_mass])[sipm]\n",
    "    print(sipm, halt['mass'][sat_id_peak_mass], np.sort(halt['mass'][snap_peak_mass])[-2]/1E12)\n",
    "    #print(sat_id_peak_mass, snap_peak_mass[sipm], halt['central.local.index'][snap_peak_mass])\n",
    "    # Find subhalos that have the central local index of the satellite\n",
    "    print(halt['mass'][sat_id_peak_mass])\n",
    "    subhalos_sat = np.where((halt['central.local.index'][snap_peak_mass] == snap_peak_mass[sipm]))[0]# & (halt['mass'][snap_peak_mass]>1e6))[0]\n",
    "    nsub_sat = len(subhalos_sat)\n",
    "    print(subhalos_sat)\n",
    "    print('-> Number of satellite subhalos at peak mass identified by halo finder {} at snapshot {}'.format(nsub_sat, smax))\n",
    "    print('-> Total number of subhalos at snap {}: {}'.format(smax, len(snap_peak_mass)))\n",
    "    # Find tree subhalos of satellite index at peak mass\n",
    "    sat_indices = np.zeros(nsub_sat, dtype=int)\n",
    "    sat_indices = snap_peak_mass[subhalos_sat]\n",
    "    cat_idx = np.zeros((nsnaps, nsub_sat), dtype=int)\n",
    "    cat_idx[0] = halt['catalog.index'][sat_indices]\n",
    "    for k in range(0, nsnaps-1):\n",
    "        sat_indices = halt['descendant.index'][sat_indices]\n",
    "        cat_idx[k+1] = halt['catalog.index'][sat_indices]\n",
    "    return cat_idx"
   ]
  },
  {
   "cell_type": "code",
   "execution_count": 142,
   "id": "c7bf1d25",
   "metadata": {},
   "outputs": [
    {
     "name": "stdout",
     "output_type": "stream",
     "text": [
      "\n",
      "# in utilities.simulation.Snapshot():\n",
      "* reading:  mnt/ceph/users/firesims/fire2/metaldiff/m12b_res7100/snapshot_times.txt\n",
      "\n",
      "* read 19882039 halos from:  mnt/ceph/users/firesims/fire2/metaldiff/m12b_res7100/halo/rockstar_dm/catalog_hdf5/tree.hdf5\n",
      "\n",
      "-2 773988.6 0.205356122112\n",
      "773988.6\n",
      "[]\n",
      "-> Number of satellite subhalos at peak mass identified by halo finder 0 at snapshot 300\n",
      "-> Total number of subhalos at snap 300: 42970\n",
      "-> Removing satellite subhalos\n"
     ]
    }
   ],
   "source": [
    "#hsub = pr.pynbody_subhalos(m12_subhalos) # this just give me satellite information \n",
    "subhalos_ids = get_catids_sat_subhalos(smax, sat_index_peak_mass)\n",
    "print(\"-> Removing satellite subhalos\")\n"
   ]
  },
  {
   "cell_type": "code",
   "execution_count": 97,
   "id": "ea7ef087",
   "metadata": {},
   "outputs": [
    {
     "data": {
      "text/plain": [
       "'/mnt/ceph/users/firesims/fire2/metaldiff/m12f_res7100/'"
      ]
     },
     "execution_count": 97,
     "metadata": {},
     "output_type": "execute_result"
    }
   ],
   "source": [
    "sim_directory"
   ]
  },
  {
   "cell_type": "code",
   "execution_count": 149,
   "id": "a22e0eb9",
   "metadata": {},
   "outputs": [
    {
     "name": "stdout",
     "output_type": "stream",
     "text": [
      "\n",
      "# in utilities.simulation.Snapshot():\n",
      "* reading:  mnt/ceph/users/firesims/fire2/metaldiff/m12w_res7100/snapshot_times.txt\n",
      "\n",
      "  using snapshot index = 215, redshift = 1.490\n",
      "\n",
      "* read 56909 halos from:  mnt/ceph/users/firesims/fire2/metaldiff/m12w_res7100/halo/rockstar_dm/catalog_hdf5/halo_215.hdf5\n",
      "\n",
      "# in halo_analysis.halo_io.Particle():\n",
      "* read 56909 halos, 136 have star particles, from:  mnt/ceph/users/firesims/fire2/metaldiff/m12w_res7100/halo/rockstar_dm/catalog_hdf5/star_215.hdf5\n",
      "* assigning primary host and coordinates wrt it to halo catalog...  finished\n",
      "\n",
      "['m12w'] [3.0222057e+11]\n",
      "\n",
      "# in utilities.simulation.Snapshot():\n",
      "* reading:  mnt/ceph/users/firesims/fire2/metaldiff/m12w_res7100/snapshot_times.txt\n",
      "\n",
      "  using snapshot index = 286, redshift = 0.944\n",
      "\n",
      "* read 54977 halos from:  mnt/ceph/users/firesims/fire2/metaldiff/m12w_res7100/halo/rockstar_dm/catalog_hdf5/halo_286.hdf5\n",
      "\n",
      "# in halo_analysis.halo_io.Particle():\n",
      "* read 54977 halos, 107 have star particles, from:  mnt/ceph/users/firesims/fire2/metaldiff/m12w_res7100/halo/rockstar_dm/catalog_hdf5/star_286.hdf5\n",
      "* assigning primary host and coordinates wrt it to halo catalog...  finished\n",
      "\n",
      "['m12w'] [3.6092645e+11]\n",
      "\n",
      "# in utilities.simulation.Snapshot():\n",
      "* reading:  mnt/ceph/users/firesims/fire2/metaldiff/m12w_res7100/snapshot_times.txt\n",
      "\n",
      "  using snapshot index = 224, redshift = 1.405\n",
      "\n",
      "* read 57402 halos from:  mnt/ceph/users/firesims/fire2/metaldiff/m12w_res7100/halo/rockstar_dm/catalog_hdf5/halo_224.hdf5\n",
      "\n",
      "# in halo_analysis.halo_io.Particle():\n",
      "* read 57402 halos, 131 have star particles, from:  mnt/ceph/users/firesims/fire2/metaldiff/m12w_res7100/halo/rockstar_dm/catalog_hdf5/star_224.hdf5\n",
      "* assigning primary host and coordinates wrt it to halo catalog...  finished\n",
      "\n",
      "['m12w'] [3.1908823e+11]\n"
     ]
    }
   ],
   "source": [
    "#sims = ['m12b', 'm12c', 'm12f', 'm12i', 'm12m']\n",
    "sims = ['m12w']\n",
    "snap_in = [215, 286, 224]\n",
    "i=0\n",
    "for snaps in snap_in:\n",
    "    sim_directory = \"/mnt/ceph/users/firesims/fire2/metaldiff/{}_res7100/\".format('m12w')\n",
    "    m12_subhalos = halo.io.IO.read_catalogs('index', snaps, sim_directory);\n",
    "    print(sims, m12_subhalos['mass.200m'][m12_subhalos.prop('host.distance.total')==0])\n",
    "    i+=1"
   ]
  },
  {
   "cell_type": "code",
   "execution_count": 99,
   "id": "3f43f975",
   "metadata": {},
   "outputs": [
    {
     "data": {
      "text/plain": [
       "[array([[False, False, False],\n",
       "        [False, False, False],\n",
       "        [False, False, False],\n",
       "        ...,\n",
       "        [False, False, False],\n",
       "        [False, False, False],\n",
       "        [False, False, False]])]"
      ]
     },
     "execution_count": 99,
     "metadata": {},
     "output_type": "execute_result"
    }
   ],
   "source": [
    "[m12_subhalos.prop('host.distance')==0]"
   ]
  },
  {
   "cell_type": "code",
   "execution_count": 104,
   "id": "9cc5d490",
   "metadata": {},
   "outputs": [],
   "source": [
    "#sims = ['m12b', 'm12c', 'm12f', 'm12i', 'm12m', 'm12r', 'm12w']\n",
    "#for sim in sims:\n",
    "#    sim_directory = \"/mnt/ceph/users/firesims/fire2/metaldiff/{}_res7100/\".format(sim)\n",
    "#    m12_subhalos = halo.io.IO.read_catalogs('index', 600, sim_directory);\n",
    "#    print(sim, m12_subhalos['mass.200m'][m12_subhalos.prop('host.distance.total')==0])"
   ]
  },
  {
   "cell_type": "code",
   "execution_count": 31,
   "id": "abdfa961",
   "metadata": {},
   "outputs": [
    {
     "name": "stdout",
     "output_type": "stream",
     "text": [
      "\n",
      "# in utilities.simulation.Snapshot():\n",
      "* reading:  mnt/ceph/users/firesims/fire2/metaldiff/m12c_res7100/snapshot_times.txt\n",
      "\n",
      "  using snapshot index = 492, redshift = 0.187\n",
      "\n",
      "* read 108913 halos from:  mnt/ceph/users/firesims/fire2/metaldiff/m12c_res7100/halo/rockstar_dm/catalog_hdf5/halo_492.hdf5\n",
      "\n",
      "# in halo_analysis.halo_io.Particle():\n",
      "* read 108913 halos, 128 have star particles, from:  mnt/ceph/users/firesims/fire2/metaldiff/m12c_res7100/halo/rockstar_dm/catalog_hdf5/star_492.hdf5\n",
      "* assigning primary host and coordinates wrt it to halo catalog...  finished\n",
      "\n",
      "m12c [7.8189455e+11]\n"
     ]
    }
   ],
   "source": [
    "sims = ['m12c']\n",
    "for sim in sims:\n",
    "    sim_directory = \"/mnt/ceph/users/firesims/fire2/metaldiff/{}_res7100/\".format(sim)\n",
    "    m12_subhalos = halo.io.IO.read_catalogs('index', 492, sim_directory);\n",
    "    print(sim, m12_subhalos['mass.200m'][m12_subhalos.prop('host.distance.total')==0])"
   ]
  },
  {
   "cell_type": "code",
   "execution_count": 42,
   "id": "2ef8e910",
   "metadata": {},
   "outputs": [
    {
     "data": {
      "text/plain": [
       "0.2285714285714286"
      ]
     },
     "execution_count": 42,
     "metadata": {},
     "output_type": "execute_result"
    }
   ],
   "source": [
    "0.8/3.5"
   ]
  },
  {
   "cell_type": "markdown",
   "id": "533c4310",
   "metadata": {},
   "source": [
    "### \n",
    "\n",
    "halo | halo catalog | Wetzel+22\n",
    ":=============================:\n",
    "m12b 1.1821225e+12 | 1.43e+12 \n",
    "m12c 1.126225e+12 | 1.35e12\n",
    "m12f 1.39802e+12 | 1.71e12\n",
    "m12i 9.7206554e+11 |1.18e12 \n",
    "m12m 1.2596011e+12 |1.58e12\n",
    "m12r 9.563382e+11 |1.10e12 \n",
    "m12w 9.088676e+11 | 1.08e12"
   ]
  },
  {
   "cell_type": "code",
   "execution_count": 29,
   "id": "e6a035f3",
   "metadata": {},
   "outputs": [
    {
     "data": {
      "text/plain": [
       "dict_keys(['accrete.rate', 'accrete.rate.100Myr', 'accrete.rate.tdyn', 'am.phantom', 'am.progenitor.main', 'axis.b/a', 'axis.c/a', 'descendant.snapshot', 'host.distance', 'host.index', 'host.velocity', 'host.velocity.rad', 'host.velocity.tan', 'id', 'id.to.index', 'infall.first.mass', 'infall.first.snapshot', 'infall.first.vel.circ.max', 'infall.mass', 'infall.snapshot', 'infall.vel.circ.max', 'major.merger.snapshot', 'mass', 'mass.180m', 'mass.200c', 'mass.200m', 'mass.500c', 'mass.bound', 'mass.half.snapshot', 'mass.lowres', 'mass.peak', 'mass.peak.snapshot', 'mass.vir', 'position', 'position.offset', 'progenitor.number', 'radius', 'scale.radius', 'scale.radius.klypin', 'spin.bullock', 'spin.peebles', 'tree.index', 'vel.circ.max', 'vel.circ.peak', 'vel.std', 'velocity', 'velocity.offset', 'dark2.mass', 'star.form.time.100', 'star.form.time.50', 'star.form.time.90', 'star.form.time.95', 'star.form.time.dif.68', 'star.indices', 'star.mass', 'star.massfraction', 'star.number', 'star.position', 'star.radius.50', 'star.radius.90', 'star.vel.circ.50', 'star.vel.std', 'star.vel.std.50', 'star.velocity'])"
      ]
     },
     "execution_count": 29,
     "metadata": {},
     "output_type": "execute_result"
    }
   ],
   "source": [
    "m12_subhalos.keys()"
   ]
  },
  {
   "cell_type": "code",
   "execution_count": 30,
   "id": "21e72482",
   "metadata": {},
   "outputs": [
    {
     "data": {
      "text/plain": [
       "array([1.4210399e+00, 7.6367521e-01, 2.0566952e-01, ..., 7.0361821e-08,\n",
       "       7.0361821e-08, 7.0361821e-08], dtype=float32)"
      ]
     },
     "execution_count": 30,
     "metadata": {},
     "output_type": "execute_result"
    }
   ],
   "source": [
    "np.sort(m12_subhalos['mass.200m'])[::-1]/1e12"
   ]
  },
  {
   "cell_type": "code",
   "execution_count": 2,
   "id": "64ce981f-55fe-4219-8612-0d28170c22ac",
   "metadata": {},
   "outputs": [],
   "source": [
    "import numpy as np"
   ]
  },
  {
   "cell_type": "code",
   "execution_count": 3,
   "id": "b10094f3",
   "metadata": {},
   "outputs": [],
   "source": [
    "sim = 'm12b'\n",
    "snap_times = \"/mnt/ceph/users/firesims/fire2/metaldiff/{}_res7100/snapshot_times.txt\".format(sim)\n",
    "times = np.loadtxt(snap_times, usecols=3)"
   ]
  },
  {
   "cell_type": "code",
   "execution_count": 16,
   "id": "e4e2bc13-f9a2-4d4c-9e5d-0589ef452d7b",
   "metadata": {},
   "outputs": [
    {
     "data": {
      "text/plain": [
       "11.50138153"
      ]
     },
     "execution_count": 16,
     "metadata": {},
     "output_type": "execute_result"
    }
   ],
   "source": [
    "times[492]"
   ]
  },
  {
   "cell_type": "code",
   "execution_count": null,
   "id": "af8c5d37-4b95-4719-af47-31dc7fedb6f4",
   "metadata": {},
   "outputs": [],
   "source": []
  }
 ],
 "metadata": {
  "kernelspec": {
   "display_name": "Python 3 (ipykernel)",
   "language": "python",
   "name": "python3"
  },
  "language_info": {
   "codemirror_mode": {
    "name": "ipython",
    "version": 3
   },
   "file_extension": ".py",
   "mimetype": "text/x-python",
   "name": "python",
   "nbconvert_exporter": "python",
   "pygments_lexer": "ipython3",
   "version": "3.9.15"
  }
 },
 "nbformat": 4,
 "nbformat_minor": 5
}
