{
 "cells": [
  {
   "cell_type": "code",
   "execution_count": 2,
   "id": "0ece031a-ede2-4cd5-a09f-5b26ee336800",
   "metadata": {},
   "outputs": [],
   "source": [
    "# Co-rotating satellites distances"
   ]
  },
  {
   "cell_type": "markdown",
   "id": "35ceb734-36cc-4f51-b953-5a7200556e05",
   "metadata": {},
   "source": [
    "| Satellite | Distance | Magellanic origin II |\n",
    "| --------  | -------- | ------------- |\n",
    "| Hydrus I  | <45| yes |\n",
    "| Tucana IV  | <45 | no |\n",
    "| Carina III  | <45| yes |\n",
    "| Reticulum II | <45 |yes |\n",
    "| LMC  | 45-80 | yes |\n",
    "| SMC  | 45-80 | yes |\n",
    "| Ursa Minor  | 78 | no |\n",
    "| Horologium II  |79 | no |\n",
    "| Grus II  | 50 | no |\n",
    "| Horologium I  | 45-80 | yes |\n",
    "| Phoenix II  |80-150 | yes |\n",
    "| Fornax  | 80-150 | no |\n",
    "| Carina  |80-150 | no |\n",
    "| Draco  | 80-150 | no|\n",
    "| Crater II  | 80-150 | no|\n",
    "\n",
    "\n"
   ]
  },
  {
   "cell_type": "code",
   "execution_count": 10,
   "id": "832e9a08-7008-4a66-ae4f-5435d05da66d",
   "metadata": {},
   "outputs": [],
   "source": [
    "UMinor = np.sqrt(22.0**2 + 52.3**2 + 53.8**2)\n",
    "Hor2 = np.sqrt(14.3**2 +  45.4**2 + 63.2**2) \n",
    "Grus2 = np.sqrt(25.2**2 + 5.2**2 +43.4**2)"
   ]
  },
  {
   "cell_type": "code",
   "execution_count": 11,
   "id": "9adedf95-3e39-49ce-b737-b81e404a3309",
   "metadata": {},
   "outputs": [
    {
     "name": "stdout",
     "output_type": "stream",
     "text": [
      "78.1903446724722 79.1194666311648 50.454335789900156\n"
     ]
    }
   ],
   "source": [
    "print(UMinor, Hor2, Grus2)"
   ]
  },
  {
   "cell_type": "code",
   "execution_count": null,
   "id": "eb9c268e-995f-404e-8345-921a5c083e94",
   "metadata": {},
   "outputs": [],
   "source": []
  }
 ],
 "metadata": {
  "kernelspec": {
   "display_name": "Python 3 (ipykernel)",
   "language": "python",
   "name": "python3"
  },
  "language_info": {
   "codemirror_mode": {
    "name": "ipython",
    "version": 3
   },
   "file_extension": ".py",
   "mimetype": "text/x-python",
   "name": "python",
   "nbconvert_exporter": "python",
   "pygments_lexer": "ipython3",
   "version": "3.10.10"
  }
 },
 "nbformat": 4,
 "nbformat_minor": 5
}
