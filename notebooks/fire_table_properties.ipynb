{
 "cells": [
  {
   "cell_type": "code",
   "execution_count": 3,
   "id": "ffe6fe46-6fcf-462c-bd9d-7f89c140d6ba",
   "metadata": {},
   "outputs": [
    {
     "name": "stdout",
     "output_type": "stream",
     "text": [
      "%pylab is deprecated, use %matplotlib inline and import the required libraries.\n",
      "Populating the interactive namespace from numpy and matplotlib\n"
     ]
    },
    {
     "name": "stderr",
     "output_type": "stream",
     "text": [
      "/mnt/sw/nix/store/b4q5asj8flwlgmaijgj1r6wbmnls5x8k-python-3.9.15-view/lib/python3.9/site-packages/IPython/core/magics/pylab.py:162: UserWarning: pylab import has clobbered these variables: ['f']\n",
      "`%matplotlib` prevents importing * from pylab and numpy\n",
      "  warn(\"pylab import has clobbered these variables: %s\"  % clobbered +\n"
     ]
    }
   ],
   "source": [
    "%pylab inline\n",
    "import pickle"
   ]
  },
  {
   "cell_type": "code",
   "execution_count": 4,
   "id": "9632aec2-7e0c-4e27-b82a-6908d35cba2b",
   "metadata": {},
   "outputs": [
    {
     "name": "stdout",
     "output_type": "stream",
     "text": [
      "m12b 300\n",
      "0.713863929856\n",
      "m12b 600\n",
      "1.434263658496\n",
      "m12c 300\n",
      "0.59676488704\n",
      "m12c 600\n",
      "1.352889520128\n",
      "m12f 289\n",
      "0.796702595072\n",
      "m12f 415\n",
      "1.281941700608\n",
      "m12f 600\n",
      "1.70985480192\n",
      "m12i 309\n",
      "0.866777808896\n",
      "m12i 600\n",
      "1.180057198592\n",
      "m12m 365\n",
      "1.09975189504\n",
      "m12m 600\n",
      "1.584893206528\n",
      "m12r 267\n",
      "0.279005920768\n",
      "m12r 282\n",
      "0.298739469824\n",
      "m12r 324\n",
      "0.3311545856\n",
      "m12r 600\n",
      "1.103039971328\n",
      "m12w 215\n",
      "0.359055455232\n",
      "m12w 224\n",
      "0.376872712192\n",
      "m12w 286\n",
      "0.436755807232\n",
      "m12w 300\n",
      "0.511515145216\n",
      "m12w 600\n",
      "1.076751888384\n"
     ]
    }
   ],
   "source": [
    "sims = ['m12b', 'm12c', 'm12f', 'm12i', 'm12m', 'm12r', 'm12w']\n",
    "\n",
    "for sim in sims:\n",
    "    sim_dir = \"/mnt/ceph/users/firesims/fire2/metaldiff/{}_res7100\".format(sim)\n",
    "    path = f'{sim_dir}/mass_info/'\n",
    "    \n",
    "    \n",
    "    nsnaps = [215, 224, 267, 282, 286, 289, 300, 309, 324, 354, 365, 415, 600]\n",
    "    for nsnap in nsnaps:\n",
    "        try:\n",
    "            with open(f'{sim_dir}/mass_info/{nsnap}_mass_total.p','rb') as f:\n",
    "                mass_info = pickle.load(f)\n",
    "                print(sim, nsnap)\n",
    "                print(mass_info['mass.200m']/1E12)\n",
    "        except:\n",
    "              pass"
   ]
  },
  {
   "cell_type": "code",
   "execution_count": 2,
   "id": "839c9f6b-6da2-403e-bac0-9213d7ff9062",
   "metadata": {},
   "outputs": [
    {
     "ename": "NameError",
     "evalue": "name 'mass_info' is not defined",
     "output_type": "error",
     "traceback": [
      "\u001b[0;31m---------------------------------------------------------------------------\u001b[0m",
      "\u001b[0;31mNameError\u001b[0m                                 Traceback (most recent call last)",
      "Cell \u001b[0;32mIn [2], line 1\u001b[0m\n\u001b[0;32m----> 1\u001b[0m mass_info\n",
      "\u001b[0;31mNameError\u001b[0m: name 'mass_info' is not defined"
     ]
    }
   ],
   "source": [
    "mass_info"
   ]
  },
  {
   "cell_type": "code",
   "execution_count": null,
   "id": "e30c29a6-fa5f-447c-820e-e39082ade5bc",
   "metadata": {},
   "outputs": [],
   "source": [
    "m12b: 300, 600\n",
    "m12c: 300, 600\n",
    "m12f: 289, 415, 600\n",
    "m12i: 309, 600\n",
    "m12m: 365, 600\n",
    "m12r: 267, 324, 282, 600\n",
    "m12w:   215, 286, 224, 600"
   ]
  }
 ],
 "metadata": {
  "kernelspec": {
   "display_name": "Python 3 (ipykernel)",
   "language": "python",
   "name": "python3"
  },
  "language_info": {
   "codemirror_mode": {
    "name": "ipython",
    "version": 3
   },
   "file_extension": ".py",
   "mimetype": "text/x-python",
   "name": "python",
   "nbconvert_exporter": "python",
   "pygments_lexer": "ipython3",
   "version": "3.10.10"
  }
 },
 "nbformat": 4,
 "nbformat_minor": 5
}
